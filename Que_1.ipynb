{
  "nbformat": 4,
  "nbformat_minor": 0,
  "metadata": {
    "colab": {
      "provenance": [],
      "gpuType": "T4",
      "authorship_tag": "ABX9TyNLW9MRkZnzM1p3UTwZCAUx",
      "include_colab_link": true
    },
    "kernelspec": {
      "name": "python3",
      "display_name": "Python 3"
    },
    "language_info": {
      "name": "python"
    },
    "accelerator": "GPU"
  },
  "cells": [
    {
      "cell_type": "markdown",
      "metadata": {
        "id": "view-in-github",
        "colab_type": "text"
      },
      "source": [
        "<a href=\"https://colab.research.google.com/github/pushpak0111/Training/blob/main/Que_1.ipynb\" target=\"_parent\"><img src=\"https://colab.research.google.com/assets/colab-badge.svg\" alt=\"Open In Colab\"/></a>"
      ]
    },
    {
      "cell_type": "code",
      "execution_count": 1,
      "metadata": {
        "id": "gUYQZcwDYZK7"
      },
      "outputs": [],
      "source": [
        "# 1. create dummy dataset and check Compare Execution Time on CPU vs GPU with code and output"
      ]
    },
    {
      "cell_type": "code",
      "source": [
        "import tensorflow as tf\n",
        "import numpy as np\n",
        "import time"
      ],
      "metadata": {
        "id": "d2t_fh_ZY6qa"
      },
      "execution_count": 2,
      "outputs": []
    },
    {
      "cell_type": "code",
      "source": [
        "X_dummy = np.random.random((10000, 20))\n",
        "y_dummy = np.random.randint(0, 2, (10000, 1))"
      ],
      "metadata": {
        "id": "U7NDccWvbaDo"
      },
      "execution_count": 3,
      "outputs": []
    },
    {
      "cell_type": "code",
      "source": [
        "def create_model():\n",
        "  model = tf.keras.Sequential([\n",
        "    tf.keras.layers.Dense(64, activation='relu'),\n",
        "    tf.keras.layers.Dense(64, activation='relu'),\n",
        "    tf.keras.layers.Dense(1,\n",
        "    activation='sigmoid')\n",
        "  ])\n",
        "  model.compile(optimizer='adam', loss='binary_crossentropy', metrics=['accuracy'])\n",
        "  return model"
      ],
      "metadata": {
        "id": "Du1dwVKvbcgd"
      },
      "execution_count": 4,
      "outputs": []
    },
    {
      "cell_type": "code",
      "source": [
        "# Train on CPU\n",
        "with tf.device('/CPU:0'):\n",
        "    model_cpu = create_model()\n",
        "    start = time.time()\n",
        "    model_cpu.fit(X_dummy, y_dummy, epochs=5, batch_size=32, verbose=0)\n",
        "    end = time.time()\n",
        "    print(\"CPU training time:\", round(end - start, 2), \"seconds\")\n"
      ],
      "metadata": {
        "colab": {
          "base_uri": "https://localhost:8080/"
        },
        "id": "XaPiXV7rb3zF",
        "outputId": "0b2ca25b-b0cb-4dee-e970-1aed418361df"
      },
      "execution_count": 5,
      "outputs": [
        {
          "output_type": "stream",
          "name": "stdout",
          "text": [
            "CPU training time: 6.92 seconds\n"
          ]
        }
      ]
    },
    {
      "cell_type": "code",
      "source": [
        "\n",
        "# Train on GPU if available\n",
        "if tf.config.list_physical_devices('GPU'):\n",
        "    with tf.device('/GPU:0'):\n",
        "        model_gpu = create_model()\n",
        "        start = time.time()\n",
        "        model_gpu.fit(X_dummy, y_dummy, epochs=5, batch_size=32, verbose=0)\n",
        "        end = time.time()\n",
        "        print(\"GPU training time:\", round(end - start, 2), \"seconds\")\n",
        "else:\n",
        "    print(\"GPU not found\")"
      ],
      "metadata": {
        "colab": {
          "base_uri": "https://localhost:8080/"
        },
        "id": "NYBMGwgEdTDu",
        "outputId": "cce10a58-8465-4c53-afad-889e23ed7ca1"
      },
      "execution_count": 6,
      "outputs": [
        {
          "output_type": "stream",
          "name": "stdout",
          "text": [
            "GPU training time: 10.39 seconds\n"
          ]
        }
      ]
    }
  ]
}